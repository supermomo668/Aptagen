{
 "cells": [
  {
   "cell_type": "code",
   "execution_count": 2,
   "metadata": {},
   "outputs": [],
   "source": [
    "from Bio import SeqIO\n",
    "import numpy as np"
   ]
  },
  {
   "cell_type": "markdown",
   "metadata": {},
   "source": [
    "<b> Fastq general Iterator to Access Information"
   ]
  },
  {
   "cell_type": "code",
   "execution_count": 3,
   "metadata": {},
   "outputs": [
    {
     "name": "stdout",
     "output_type": "stream",
     "text": [
      "HWI-ST1006:64:C0MEKACXX:8:1101:1897:2095 1:N:0:GCCAAT\n",
      "CCTCTCTATGGGCAGTCGGTGATCCTCTCTATGGGCAGTCGGTGATGCTCACCATCTCTTGAGAGACGCGCTGTGGTGTGCTAGACGAGTCTCGCTCAACTGCACTGGGTTCCTCATTCTCCGGAGAATGAGGAACCCAGTGCAG\n",
      "+\n",
      "#################################################################################################################################################\n",
      "Length: 145\n",
      "\n",
      "HWI-ST1006:64:C0MEKACXX:8:1101:1818:2100 1:N:0:GCCAAT\n",
      "CCTCTCTATGGGCAGTCGGTGATCCTCTCTATGGGCAGTCGGTGATCCCGGTCTGTATTAGGTCACAGAGGTATGTCAGACGACTCGCGCAGAATCTGACTGCACTGGGTTCCTCATTCTCCGGAGAATGAGGAACCCAGTGCAG\n",
      "+\n",
      "#################################################################################################################################################\n",
      "Length: 145\n",
      "\n",
      "{145: 3000}\n",
      "3000 records \n"
     ]
    }
   ],
   "source": [
    "#### Get Records' no. of sequence info\n",
    "from Bio.SeqIO.QualityIO import FastqGeneralIterator\n",
    "num = 0; count = 0; total_len = 0\n",
    "\n",
    "file = \"Processed_example.fastq\"; length_dictionary = {};\n",
    "with open(file) as in_handle:\n",
    "    for title, seq, qual in FastqGeneralIterator(in_handle):     \n",
    "        count += 1 ; total_len += len(seq); length = len(seq);num += 1 ;\n",
    "        if num >= 10 and num <= 11:                          ##### Print \n",
    "             print(\"%s\\n%s\\n+\\n%s\\nLength: %s\\n\" % (title, seq, qual,length))\n",
    "        try:\n",
    "            length_dictionary[length] += 1\n",
    "        except KeyError:\n",
    "            length_dictionary[length] = 1\n",
    "print(length_dictionary)\n",
    "print(\"%i records \" % count)"
   ]
  },
  {
   "cell_type": "markdown",
   "metadata": {},
   "source": [
    "<b> General Access of Information"
   ]
  },
  {
   "cell_type": "code",
   "execution_count": 4,
   "metadata": {},
   "outputs": [
    {
     "name": "stdout",
     "output_type": "stream",
     "text": [
      "<class 'Bio.SeqRecord.SeqRecord'>\n",
      "MN00460:22:000H2KVYC:1:11101:15899:1073\n",
      "Seq('GCTGGCGGCCCTCTCTATGGGCAGTCGGTGATTTCTCATACACCAGCTATTTTT...CAG', SingleLetterAlphabet())\n",
      "[28, 37, 37, 37, 32, 37, 37, 37, 37, 37, 37, 37, 37, 37, 37, 37, 37, 37, 37, 37, 37, 37, 37, 37, 37, 37, 37, 37, 37, 37, 37, 37, 37, 37, 37, 37, 37, 37, 37, 37, 37, 37, 37, 37, 37, 37, 37, 37, 37, 37, 37, 37, 37, 37, 37, 37, 37, 37, 37, 37, 37, 37, 37, 37, 37, 37, 37, 37, 37, 37, 37, 37, 37, 37, 37, 37, 37, 37, 37, 37, 37, 37, 37, 37, 37, 37, 37, 37, 37, 37, 37, 37, 37, 37, 37, 37, 37, 37, 37, 37, 37, 37, 37, 37, 37]\n",
      "length :105\n",
      "<class 'Bio.SeqRecord.SeqRecord'>\n",
      "MN00460:22:000H2KVYC:1:11101:17975:1073\n",
      "Seq('GGTGGGGGGCCTCTCTATGGGCAGTCGGTGATTACTGATTTTATTTTGCAGCGA...CAG', SingleLetterAlphabet())\n",
      "[32, 37, 32, 37, 37, 37, 37, 37, 32, 14, 37, 37, 37, 37, 37, 37, 37, 37, 37, 37, 37, 37, 37, 37, 37, 37, 37, 37, 37, 37, 37, 37, 37, 37, 37, 37, 37, 37, 37, 37, 37, 37, 37, 32, 37, 37, 37, 37, 37, 37, 37, 37, 37, 37, 37, 37, 37, 37, 37, 37, 37, 37, 37, 37, 37, 37, 37, 37, 37, 37, 37, 37, 37, 37, 37, 37, 37, 37, 37, 37, 37, 37, 37, 37, 37, 32, 37, 37, 14, 37, 37, 37, 37, 37, 37, 37, 37, 37, 37, 37, 37, 37, 37, 37, 37, 37]\n",
      "length :106\n"
     ]
    }
   ],
   "source": [
    "count = 0\n",
    "for seq_record in SeqIO.parse(\"ARACD3G10P_S2_L001_R1_001.fastq\", \"fastq\"):\n",
    "    print(type(seq_record))\n",
    "    count += 1\n",
    "    print(seq_record.id);  \n",
    "    print(repr(seq_record.seq)); \n",
    "    print(seq_record.letter_annotations['phred_quality'])\n",
    "    print('length :' + str(len(seq_record)))\n",
    "    if count >= 2:\n",
    "        break"
   ]
  },
  {
   "cell_type": "markdown",
   "metadata": {},
   "source": [
    "<b> Record and Access information stored in a Dictionary"
   ]
  },
  {
   "cell_type": "code",
   "execution_count": 14,
   "metadata": {},
   "outputs": [],
   "source": [
    "file = \"example.fastq\"\n",
    "record_dict = SeqIO.index(file,\"fastq\")              # High run time\n",
    "#print(record_dict[\"MN00460:22:000H2KVYC:1:11101:15899:1073\"].letter_annotations['phred_quality'])"
   ]
  },
  {
   "cell_type": "markdown",
   "metadata": {},
   "source": [
    "<b> Correcting Primer Sequence"
   ]
  },
  {
   "cell_type": "code",
   "execution_count": 15,
   "metadata": {},
   "outputs": [],
   "source": [
    "from Bio.Seq import Seq\n",
    "from Bio.Alphabet import SingleLetterAlphabet, generic_dna  #....etc (there are many more types)"
   ]
  },
  {
   "cell_type": "code",
   "execution_count": 17,
   "metadata": {},
   "outputs": [
    {
     "name": "stdout",
     "output_type": "stream",
     "text": [
      "ID: HWI-ST1006:64:C0MEKACXX:8:1101:15918:1996\n",
      "Name: HWI-ST1006:64:C0MEKACXX:8:1101:15918:1996\n",
      "Description: HWI-ST1006:64:C0MEKACXX:8:1101:15918:1996 1:N:0:GCCGAT\n",
      "Number of features: 0\n",
      "Per letter annotation for: phred_quality\n",
      "Seq('ATCAGAGGACGATGCGGCCTAGTACAACAGCCTGATCTCTGTGAGCCGAGACTA...ACA', SingleLetterAlphabet())\n"
     ]
    }
   ],
   "source": [
    "## Make dictionary to store information \n",
    "file_info = SeqIO.index(file, \"fastq\" );        # HIGH runtime\n",
    "print(file_info[list(file_info.keys())[0]])"
   ]
  },
  {
   "cell_type": "code",
   "execution_count": 18,
   "metadata": {},
   "outputs": [],
   "source": [
    "IDs = list(file_info.items())     ### HIGH runtime"
   ]
  },
  {
   "cell_type": "code",
   "execution_count": 19,
   "metadata": {},
   "outputs": [
    {
     "name": "stdout",
     "output_type": "stream",
     "text": [
      "3000\n",
      "{'phred_quality': [16, 25, 35, 33, 33, 35, 35, 17, 34, 35, 35, 37, 40, 37, 33, 27, 34, 34, 30, 25, 18, 30, 24, 9, 9, 30, 33, 9, 23, 33, 17, 15, 30, 2, 2, 2, 2, 2, 2, 2, 2, 2, 2, 2, 2, 2, 2, 2, 2, 2, 2, 2, 2, 2, 2, 2, 2, 2, 2, 2, 2, 2, 2, 2, 2, 2, 2, 2, 2, 2, 2, 2, 2, 2, 2, 2, 2, 2, 2, 2, 2, 2, 2, 2, 2, 2, 2, 2, 2, 2, 2, 2, 2, 2, 2, 2, 2, 2, 2]}\n"
     ]
    }
   ],
   "source": [
    "print(len(file_info))\n",
    "print(file_info[list(file_info.keys())[0]].letter_annotations)"
   ]
  },
  {
   "cell_type": "code",
   "execution_count": 20,
   "metadata": {},
   "outputs": [],
   "source": [
    "########## Function for modification\n",
    "def sub_primer(record, forward_primer, reverse_primer, record_original_info):\n",
    "    #print(record.seq); \n",
    "    record.letter_annotations = {}; \n",
    "    #print('length before: ' + str(len(record)))\n",
    "    record.seq = forward_primer.upper() + record.seq[len(forward_primer):-len(reverse_primer)] + Seq(reverse_primer).reverse_complement().upper(); \n",
    "    record.seq = forward_primer.upper() + record.seq + Seq(reverse_primer).upper(); \n",
    "    #print('length after: ' + str(len(record)))\n",
    "    #print(record_original_info[record.id].letter_annotations['phred_quality'])\n",
    "    #record.letter_annotations['phred_quality'] = record_original_info[record.id].letter_annotations['phred_quality']\n",
    "    record.letter_annotations['phred_quality'] = np.linspace(2,2,len(record))\n",
    "    return record\n"
   ]
  },
  {
   "cell_type": "code",
   "execution_count": 24,
   "metadata": {},
   "outputs": [
    {
     "name": "stdout",
     "output_type": "stream",
     "text": [
      "Number of Reads: 3000\n"
     ]
    }
   ],
   "source": [
    "######## Run\n",
    "file_in = \"example.fastq\"; file_out = \"Processed_example.fastq\"\n",
    "left_primer = \"CCUCUCUAUGGGCAGUCGGUGAU\"; right_primer = \"GGAGAAUGAGGAACCCAGUGCAG\"\n",
    "processed_records = ((sub_primer(record, left_primer,right_primer,file_info) for i, record in enumerate(SeqIO.parse(file_in,\"fastq\"))))\n",
    "count = SeqIO.write(processed_records, file_out, \"fastq\")\n",
    "print(\"Number of Reads: %i\" %count)"
   ]
  },
  {
   "cell_type": "code",
   "execution_count": 25,
   "metadata": {},
   "outputs": [
    {
     "name": "stdout",
     "output_type": "stream",
     "text": [
      "This sequence is good\n",
      "HWI-ST1006:64:C0MEKACXX:8:1101:15918:1996\n",
      "CCUCUCUAUGGGCAGUCGGUGAUCCUCUCUAUGGGCAGUCGGUGAUACAACAGCCTGATCTCTGTGAGCCGAGACTAGCACAGACGAGTCGCCGTGCATCUGCACUGGGUUCCUCAUUCUCCGGAGAAUGAGGAACCCAGUGCAG\n",
      "145\n",
      "This sequence is good\n",
      "HWI-ST1006:64:C0MEKACXX:8:1101:1184:2166\n",
      "CCUCUCUAUGGGCAGUCGGUGAUCCUCUCUAUGGGCAGUCGGUGAUCTNNTAAACACAGATCNNGCATATTGAGTGTACACACNGAGAAGACACTCAGACUGCACUGGGUUCCUCAUUCUCCGGAGAAUGAGGAACCCAGUGCAG\n",
      "145\n",
      "This sequence is good\n",
      "HWI-ST1006:64:C0MEKACXX:8:1101:1353:2104\n",
      "CCUCUCUAUGGGCAGUCGGUGAUCCUCUCUAUGGGCAGUCGGUGAUTATTCCAGAGGAGGTGCGCTACGTCGTGTGACGCGAGACAGTACACACAGACTCUGCACUGGGUUCCUCAUUCUCCGGAGAAUGAGGAACCCAGUGCAG\n",
      "145\n"
     ]
    }
   ],
   "source": [
    "###### check the wrote-out file\n",
    "for i, record in enumerate(SeqIO.parse(file_out, \"fastq\")):\n",
    "    if i >=3:\n",
    "        break\n",
    "    ;\n",
    "    if record.seq[:len(left_primer)] == left_primer and record.seq[-len(right_primer):] == right_primer:\n",
    "        print('This sequence is good')\n",
    "    else: \n",
    "        print('Something is wrong: \\n' + record.seq[:len(left_primer)] + ' | ' + record.seq[-len(right_primer):])\n",
    "        print(left_primer + ' | '+ right_primer)\n",
    "    print(record.id); print(record.seq); print(len(record.seq))"
   ]
  },
  {
   "cell_type": "markdown",
   "metadata": {},
   "source": [
    "<b> Applying Trimming Function and Writing a new sequence file"
   ]
  },
  {
   "cell_type": "code",
   "execution_count": 24,
   "metadata": {},
   "outputs": [],
   "source": [
    "## Primer Trimmer\n",
    "def trim_primer(record, forward_primer, reverse_primer):            #### Trim off primer by length\n",
    "    return record[len(forward_primer):-len(reverse_primer)] "
   ]
  },
  {
   "cell_type": "code",
   "execution_count": null,
   "metadata": {},
   "outputs": [],
   "source": [
    "file_out = \"example.fastq\"\n",
    "trimmed_reads = (trim_primer(record,\"CCTCTCTATGGGCAGTCGGTGAT\",\"GGAGAATGAGGAACCCAGTGCAG\") \n",
    "                 for i,record in enumerate(SeqIO.parse(\"ARACD3G10P_S2_L001_R1_001.fastq\", \"fastq\")) if i <=5)\n",
    "count = SeqIO.write(trimmed_reads, file_out, \"fastq\")\n",
    "print(type(trimmed_reads))\n",
    "print(\"Saved %i reads\" % count)"
   ]
  },
  {
   "cell_type": "code",
   "execution_count": 127,
   "metadata": {},
   "outputs": [
    {
     "name": "stdout",
     "output_type": "stream",
     "text": [
      "ID: HWI-ST1006:64:C0MEKACXX:8:1101:15918:1996\n",
      "Name: HWI-ST1006:64:C0MEKACXX:8:1101:15918:1996\n",
      "Description: HWI-ST1006:64:C0MEKACXX:8:1101:15918:1996 1:N:0:GCCGAT\n",
      "Number of features: 0\n",
      "Per letter annotation for: phred_quality\n",
      "Seq('CCTCTCTATGGGCAGTCGGT', SingleLetterAlphabet())\n"
     ]
    }
   ],
   "source": [
    "test_record = next(SeqIO.parse(file_out,\"fastq\"))[:20]\n",
    "print(test_record)"
   ]
  },
  {
   "cell_type": "markdown",
   "metadata": {},
   "source": [
    "<b> Clean Sequence by Length"
   ]
  },
  {
   "cell_type": "code",
   "execution_count": 45,
   "metadata": {},
   "outputs": [],
   "source": [
    "import sys\n",
    "def sequence_cleaner(old_fasta_file, new_fast_file, min_length, max_length, por_n):  # fast_file: file name; length: integer; por_n: percent of N allowed\n",
    "    # Create our hash table to add the sequences\n",
    "    sequences={}\n",
    "\n",
    "    # Using the Biopython fasta parse we can read our fasta input\n",
    "    for seq_record in SeqIO.parse(old_fasta_file, \"fasta\"):\n",
    "        # Take the current sequence\n",
    "        sequence = str(seq_record.seq).upper()\n",
    "        # Check if the current sequence is according to the user parameters\n",
    "        if (len(sequence) >= min_length and\n",
    "            (float(sequence.count(\"N\"))/float(len(sequence)))*100 <= por_n):\n",
    "        # If the sequence passed in the test \"is it clean?\" and it isn't in the\n",
    "        # hash table, the sequence and its id are going to be in the hash\n",
    "            if sequence not in sequences:\n",
    "                sequences[sequence] = seq_record.id\n",
    "       # If it is already in the hash table, we're just gonna concatenate the ID\n",
    "       # of the current sequence to another one that is already in the hash table\n",
    "            else:\n",
    "                sequences[sequence] += \"_\" + seq_record.id\n",
    "\n",
    "    # Write the clean sequences\n",
    "\n",
    "    # Create a file in the same directory where you ran this script\n",
    "    with open(\"clear_\" + new_fasta_file, \"w+\") as output_file:\n",
    "        # Just read the hash table and write on the file as a fasta format\n",
    "        for sequence in sequences:\n",
    "            output_file.write(\">\" + sequences[sequence] + \"\\n\" + sequence + \"\\n\")\n",
    "    print(\"CLEAN!!!\\nPlease check clear_\" + fasta_file)"
   ]
  },
  {
   "cell_type": "markdown",
   "metadata": {},
   "source": [
    "<b> Operating Tutorial"
   ]
  },
  {
   "cell_type": "code",
   "execution_count": 48,
   "metadata": {},
   "outputs": [
    {
     "data": {
      "text/plain": [
       "Seq('ACGTAACCGGTT', DNAAlphabet())"
      ]
     },
     "execution_count": 48,
     "metadata": {},
     "output_type": "execute_result"
    }
   ],
   "source": [
    "from Bio.Alphabet import generic_dna\n",
    "list_of_seqs = [Seq(\"ACGT\", generic_dna), Seq(\"AACC\", generic_dna), Seq(\"GGTT\", generic_dna)]\n",
    "concatenated = Seq(\"\", generic_dna)\n",
    "for s in list_of_seqs:\n",
    "     concatenated += s\n",
    "concatenated"
   ]
  },
  {
   "cell_type": "code",
   "execution_count": 27,
   "metadata": {},
   "outputs": [
    {
     "name": "stdout",
     "output_type": "stream",
     "text": [
      "CCUCUCUAUGGGCAGUCGGUGAU\n",
      "CUGCACUGGGUUCCUCAUUCUCC\n"
     ]
    }
   ],
   "source": [
    "print(Seq(left_primer))\n",
    "print(Seq(right_primer).reverse_complement())"
   ]
  },
  {
   "cell_type": "code",
   "execution_count": 38,
   "metadata": {},
   "outputs": [
    {
     "data": {
      "text/plain": [
       "Seq('ACUAGAUC', RNAAlphabet())"
      ]
     },
     "execution_count": 38,
     "metadata": {},
     "output_type": "execute_result"
    }
   ],
   "source": [
    "Seq.transcribe(Seq(\"ACTAGATC\"))"
   ]
  },
  {
   "cell_type": "code",
   "execution_count": null,
   "metadata": {},
   "outputs": [],
   "source": []
  }
 ],
 "metadata": {
  "kernelspec": {
   "display_name": "Python 3",
   "language": "python",
   "name": "python3"
  },
  "language_info": {
   "codemirror_mode": {
    "name": "ipython",
    "version": 3
   },
   "file_extension": ".py",
   "mimetype": "text/x-python",
   "name": "python",
   "nbconvert_exporter": "python",
   "pygments_lexer": "ipython3",
   "version": "3.6.6"
  }
 },
 "nbformat": 4,
 "nbformat_minor": 2
}
